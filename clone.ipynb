{
 "cells": [
  {
   "cell_type": "code",
   "execution_count": 14,
   "metadata": {},
   "outputs": [],
   "source": [
    "import csv\n",
    "import cv2\n",
    "import numpy as np\n",
    "\n",
    "lines = []\n",
    "with open('./data/lap1/driving_log.csv') as csvfile:\n",
    "  reader = csv.reader(csvfile)\n",
    "  for line in reader:\n",
    "    lines.append(line)\n",
    "    \n",
    "images = []\n",
    "measurements = [] \n",
    "for line in lines:\n",
    "  source_path = line[0]\n",
    "  tokens = source_path.split('/')\n",
    "  filename = tokens[-1]  \n",
    "  local_path = \"./data/lap1/IMG/\" + filename\n",
    "  image = cv2.imread(local_path)\n",
    "  images.append(image)\n",
    "  measurement = line[3]\n",
    "  measurements.append(measurement)\n",
    "    \n",
    "augmented_images = []\n",
    "augmented_measurements = []\n",
    "for image, measurement in zip(images, measurements):\n",
    "    augmented_images.append(image)\n",
    "    augmented_measurements.append(measurement)\n",
    "    flipped_image = cv2.flip(image, 1)\n",
    "    flipped_measurement = fmeasurement * 1.0\n",
    "    augmented_images.append(flipped_image)\n",
    "    augmented_measurements.append(flipped_measurement)\n",
    "    \n",
    "    \n",
    "    \n",
    "X_train = np.array(images)\n",
    "y_train = np.array(measurements)"
   ]
  },
  {
   "cell_type": "code",
   "execution_count": 15,
   "metadata": {},
   "outputs": [
    {
     "name": "stdout",
     "output_type": "stream",
     "text": [
      "(2121, 160, 320, 3)\n"
     ]
    }
   ],
   "source": [
    "print(X_train.shape)"
   ]
  },
  {
   "cell_type": "code",
   "execution_count": 20,
   "metadata": {},
   "outputs": [
    {
     "name": "stderr",
     "output_type": "stream",
     "text": [
      "/Users/melihtt/tools/miniconda3/envs/cenv-p36-car/lib/python3.5/site-packages/ipykernel_launcher.py:11: UserWarning: Update your `Conv2D` call to the Keras 2 API: `Conv2D(6, (5, 5), activation=\"relu\")`\n",
      "  # This is added back by InteractiveShellApp.init_path()\n",
      "/Users/melihtt/tools/miniconda3/envs/cenv-p36-car/lib/python3.5/site-packages/ipykernel_launcher.py:13: UserWarning: Update your `Conv2D` call to the Keras 2 API: `Conv2D(16, (5, 5), activation=\"relu\")`\n",
      "  del sys.path[0]\n",
      "/Users/melihtt/tools/miniconda3/envs/cenv-p36-car/lib/python3.5/site-packages/keras/models.py:874: UserWarning: The `nb_epoch` argument in `fit` has been renamed `epochs`.\n",
      "  warnings.warn('The `nb_epoch` argument in `fit` '\n"
     ]
    },
    {
     "name": "stdout",
     "output_type": "stream",
     "text": [
      "Train on 1696 samples, validate on 425 samples\n",
      "Epoch 1/5\n",
      "1696/1696 [==============================] - 78s 46ms/step - loss: 545.4897 - val_loss: 0.9899\n",
      "Epoch 2/5\n",
      "1696/1696 [==============================] - 73s 43ms/step - loss: 0.6041 - val_loss: 0.4421\n",
      "Epoch 3/5\n",
      "1696/1696 [==============================] - 67s 40ms/step - loss: 0.3246 - val_loss: 0.2513\n",
      "Epoch 4/5\n",
      "1696/1696 [==============================] - 67s 40ms/step - loss: 0.1871 - val_loss: 0.1449\n",
      "Epoch 5/5\n",
      "1696/1696 [==============================] - 72s 42ms/step - loss: 0.1124 - val_loss: 0.0879\n"
     ]
    }
   ],
   "source": [
    "import keras\n",
    "from keras.models import Sequential\n",
    "from keras.layers import Flatten, Dense, Lambda\n",
    "from keras.layers.convolutional import Convolution2D\n",
    "from keras.layers.pooling import MaxPooling2D\n",
    "\n",
    "#lenet implemented\n",
    "\n",
    "model = Sequential()\n",
    "model.add(Lambda(lambda x: x / 255.0 - 0.5, input_shape=(160,320,3)))\n",
    "model.add(Convolution2D(6, 5, 5, activation='relu'))\n",
    "model.add(MaxPooling2D())\n",
    "model.add(Convolution2D(16, 5, 5, activation='relu'))\n",
    "model.add(Flatten())\n",
    "model.add(Dense(120))\n",
    "model.add(Dense(84))\n",
    "model.add(Dense(1))\n",
    "\n",
    "model.compile(optimizer='adam', loss='mse')\n",
    "model.fit(X_train, y_train, validation_split=0.2, shuffle=True, nb_epoch=5)\n",
    "\n",
    "model.save('model.h5')\n"
   ]
  },
  {
   "cell_type": "code",
   "execution_count": null,
   "metadata": {},
   "outputs": [],
   "source": []
  }
 ],
 "metadata": {
  "kernelspec": {
   "display_name": "Python 3",
   "language": "python",
   "name": "python3"
  },
  "language_info": {
   "codemirror_mode": {
    "name": "ipython",
    "version": 3
   },
   "file_extension": ".py",
   "mimetype": "text/x-python",
   "name": "python",
   "nbconvert_exporter": "python",
   "pygments_lexer": "ipython3",
   "version": "3.5.4"
  },
  "widgets": {
   "state": {},
   "version": "1.1.2"
  }
 },
 "nbformat": 4,
 "nbformat_minor": 2
}
