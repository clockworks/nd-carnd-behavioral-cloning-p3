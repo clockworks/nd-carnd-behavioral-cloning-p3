{
 "cells": [
  {
   "cell_type": "code",
   "execution_count": 57,
   "metadata": {},
   "outputs": [],
   "source": [
    "import csv\n",
    "import cv2\n",
    "import numpy as np\n",
    "\n",
    "lines = []\n",
    "with open('./data/extra4/driving_log.csv') as csvfile:\n",
    "  reader = csv.reader(csvfile)\n",
    "  for line in reader:\n",
    "    lines.append(line)\n",
    "    \n",
    "images = []\n",
    "measurements = [] \n",
    "for line in lines[1:]:\n",
    "  for i in range(3):\n",
    "    source_path = line[0]\n",
    "    tokens = source_path.split('/')\n",
    "    filename = tokens[-1]  \n",
    "    local_path = \"./data/extra4/IMG/\" + filename\n",
    "    image = cv2.imread(local_path)\n",
    "    images.append(image)\n",
    "  correction = 0.2\n",
    "  measurement = float(line[3])\n",
    "  measurements.append(measurement)\n",
    "  measurements.append(measurement + correction)\n",
    "  measurements.append(measurement - correction)\n",
    "\n",
    "\n",
    "\n",
    "\n",
    "    \n",
    "augmented_images = []\n",
    "augmented_measurements = []\n",
    "for image, measurement in zip(images, measurements):\n",
    "    #image = cv2.resize(image, (160, 80))\n",
    "    augmented_images.append(image)\n",
    "    augmented_measurements.append(measurement)\n",
    "    flipped_image = cv2.flip(image, 1)\n",
    "    flipped_measurement = float(measurement) * -1.0\n",
    "    augmented_images.append(flipped_image)\n",
    "    augmented_measurements.append(flipped_measurement)\n",
    "    \n",
    "    \n",
    "    \n",
    "X_train = np.array(augmented_images)\n",
    "y_train = np.array(augmented_measurements)"
   ]
  },
  {
   "cell_type": "code",
   "execution_count": 58,
   "metadata": {},
   "outputs": [
    {
     "name": "stdout",
     "output_type": "stream",
     "text": [
      "(3552, 160, 320, 3)\n",
      "(3552,)\n"
     ]
    }
   ],
   "source": [
    "print(X_train.shape)\n",
    "print(y_train.shape)\n"
   ]
  },
  {
   "cell_type": "code",
   "execution_count": 59,
   "metadata": {},
   "outputs": [
    {
     "data": {
      "text/plain": [
       "'\\nfrom keras.backend import tf as ktf\\n\\ndef my_resize_function(input):\\n    new_height = 80\\n    new_width = 160\\n    return ktf.image.resize_images(input, (new_height, new_width))\\n'"
      ]
     },
     "execution_count": 59,
     "metadata": {},
     "output_type": "execute_result"
    }
   ],
   "source": [
    "'''\n",
    "from keras.backend import tf as ktf\n",
    "\n",
    "def my_resize_function(input):\n",
    "    new_height = 80\n",
    "    new_width = 160\n",
    "    return ktf.image.resize_images(input, (new_height, new_width))\n",
    "'''\n",
    "\n",
    "#model.add(Lambda(lambda x: my_resize_function(x)))"
   ]
  },
  {
   "cell_type": "code",
   "execution_count": 60,
   "metadata": {},
   "outputs": [
    {
     "name": "stderr",
     "output_type": "stream",
     "text": [
      "/Users/melihtt/tools/miniconda3/envs/cenv-p36-car/lib/python3.5/site-packages/keras/models.py:874: UserWarning: The `nb_epoch` argument in `fit` has been renamed `epochs`.\n",
      "  warnings.warn('The `nb_epoch` argument in `fit` '\n"
     ]
    },
    {
     "name": "stdout",
     "output_type": "stream",
     "text": [
      "Train on 2841 samples, validate on 711 samples\n",
      "Epoch 1/9\n",
      "2841/2841 [==============================] - 30s 10ms/step - loss: 0.1233 - val_loss: 0.0966\n",
      "Epoch 2/9\n",
      "2841/2841 [==============================] - 28s 10ms/step - loss: 0.0925 - val_loss: 0.0976\n",
      "Epoch 3/9\n",
      "2841/2841 [==============================] - 28s 10ms/step - loss: 0.0781 - val_loss: 0.0985\n",
      "Epoch 4/9\n",
      "2841/2841 [==============================] - 29s 10ms/step - loss: 0.0744 - val_loss: 0.0956\n",
      "Epoch 5/9\n",
      "2841/2841 [==============================] - 30s 10ms/step - loss: 0.0667 - val_loss: 0.1034\n",
      "Epoch 6/9\n",
      "2841/2841 [==============================] - 30s 10ms/step - loss: 0.0623 - val_loss: 0.1043\n",
      "Epoch 7/9\n",
      "2841/2841 [==============================] - 30s 11ms/step - loss: 0.0619 - val_loss: 0.1115\n",
      "Epoch 8/9\n",
      "2841/2841 [==============================] - 31s 11ms/step - loss: 0.0574 - val_loss: 0.1084\n",
      "Epoch 9/9\n",
      "2841/2841 [==============================] - 28s 10ms/step - loss: 0.0562 - val_loss: 0.1034\n"
     ]
    }
   ],
   "source": [
    "import keras\n",
    "from keras.models import Sequential\n",
    "from keras.layers import Flatten, Dense, Lambda, Cropping2D, Dropout\n",
    "from keras.layers.convolutional import Convolution2D\n",
    "from keras.layers.pooling import MaxPooling2D\n",
    "from keras.models import load_model\n",
    "\n",
    "\n",
    "model = load_model('model_extra3.h5')\n",
    "\n",
    "'''\n",
    "model = Sequential()\n",
    "model.add(Lambda(lambda x: x / 255.0 - 0.5, input_shape=(160,320,3)))                                  \n",
    "model.add(Cropping2D(cropping=((70,25),(0,0))))\n",
    "model.add(Convolution2D(12, 5, 5, subsample=(2,2), activation='relu'))\n",
    "model.add(Convolution2D(18, 5, 5, subsample=(2,2), activation='relu'))\n",
    "model.add(Convolution2D(24, 5, 5, subsample=(2,2), activation='relu'))\n",
    "model.add(Convolution2D(32, 3, 3, activation='relu'))\n",
    "model.add(Convolution2D(32, 3, 3, activation='relu'))\n",
    "model.add(Dropout(0.25))\n",
    "model.add(Flatten())\n",
    "model.add(Dense(100))\n",
    "model.add(Dense(50))\n",
    "model.add(Dense(10))\n",
    "model.add(Dropout(0.5))\n",
    "model.add(Dense(1))\n",
    "\n",
    "model.compile(optimizer='adam', loss='mse')\n",
    "'''\n",
    "\n",
    "\n",
    "model.fit(X_train, y_train, validation_split=0.2, shuffle=True, nb_epoch=9)\n",
    "\n",
    "model.save('model_extra4.h5')\n"
   ]
  },
  {
   "cell_type": "code",
   "execution_count": null,
   "metadata": {},
   "outputs": [],
   "source": []
  },
  {
   "cell_type": "code",
   "execution_count": 32,
   "metadata": {},
   "outputs": [
    {
     "name": "stderr",
     "output_type": "stream",
     "text": [
      "/Users/melihtt/tools/miniconda3/envs/cenv-p36-car/lib/python3.5/site-packages/keras/models.py:874: UserWarning: The `nb_epoch` argument in `fit` has been renamed `epochs`.\n",
      "  warnings.warn('The `nb_epoch` argument in `fit` '\n"
     ]
    },
    {
     "name": "stdout",
     "output_type": "stream",
     "text": [
      "Train on 9120 samples, validate on 2280 samples\n",
      "Epoch 1/2\n",
      "9120/9120 [==============================] - 99s 11ms/step - loss: 0.0688 - val_loss: 0.1495\n",
      "Epoch 2/2\n",
      "9120/9120 [==============================] - 94s 10ms/step - loss: 0.0674 - val_loss: 0.1523\n"
     ]
    },
    {
     "data": {
      "text/plain": [
       "<keras.callbacks.History at 0x13d9624a8>"
      ]
     },
     "execution_count": 32,
     "metadata": {},
     "output_type": "execute_result"
    }
   ],
   "source": [
    "model.fit(X_train, y_train, validation_split=0.2, shuffle=True, nb_epoch=2)"
   ]
  },
  {
   "cell_type": "markdown",
   "metadata": {},
   "source": [
    "### EXTRA"
   ]
  },
  {
   "cell_type": "code",
   "execution_count": null,
   "metadata": {},
   "outputs": [],
   "source": [
    "import keras\n",
    "from keras.models import Sequential\n",
    "from keras.layers import Flatten, Dense, Lambda, Cropping2D\n",
    "from keras.layers.convolutional import Convolution2D\n",
    "from keras.layers.pooling import MaxPooling2D\n",
    "\n",
    "#lenet implemented\n",
    "\n",
    "model = Sequential()\n",
    "model.add(Lambda(lambda x: x / 255.0 - 0.5, input_shape=(160,320,3)))\n",
    "model.add(Cropping2D(cropping=((70,25),(0,0))))\n",
    "model.add(Convolution2D(6, 5, 5, activation='relu'))\n",
    "model.add(MaxPooling2D())\n",
    "model.add(Convolution2D(16, 5, 5, activation='relu'))\n",
    "model.add(Flatten())\n",
    "model.add(Dense(120))\n",
    "model.add(Dense(84))\n",
    "model.add(Dense(1))\n",
    "\n",
    "model.compile(optimizer='adam', loss='mse')\n",
    "model.fit(X_train, y_train, validation_split=0.2, shuffle=True, nb_epoch=8)\n",
    "\n",
    "model.save('model.h5')\n"
   ]
  },
  {
   "cell_type": "code",
   "execution_count": null,
   "metadata": {},
   "outputs": [],
   "source": [
    "model = Sequential()\n",
    "model.add(Lambda(lambda x: x / 255.0 - 0.5, input_shape=(160,320,3)))\n",
    "model.add(Cropping2D(cropping=((70,25),(0,0))))\n",
    "model.add(Convolution2D(24, 5, 5, subsample=(2,2), activation='relu'))\n",
    "model.add(Convolution2D(36, 5, 5, subsample=(2,2), activation='relu'))\n",
    "model.add(Convolution2D(48, 5, 5, subsample=(2,2), activation='relu'))\n",
    "model.add(Convolution2D(64, 3, 3, activation='relu'))\n",
    "model.add(Convolution2D(64, 3, 3, activation='relu'))\n",
    "model.add(Flatten())\n",
    "model.add(Dense(100))\n",
    "model.add(Dense(50))\n",
    "model.add(Dense(10))\n",
    "model.add(Dense(1))"
   ]
  }
 ],
 "metadata": {
  "kernelspec": {
   "display_name": "Python 3",
   "language": "python",
   "name": "python3"
  },
  "language_info": {
   "codemirror_mode": {
    "name": "ipython",
    "version": 3
   },
   "file_extension": ".py",
   "mimetype": "text/x-python",
   "name": "python",
   "nbconvert_exporter": "python",
   "pygments_lexer": "ipython3",
   "version": "3.5.4"
  },
  "widgets": {
   "state": {},
   "version": "1.1.2"
  }
 },
 "nbformat": 4,
 "nbformat_minor": 2
}
