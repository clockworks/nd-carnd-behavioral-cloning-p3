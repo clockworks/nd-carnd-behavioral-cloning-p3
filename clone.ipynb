{
 "cells": [
  {
   "cell_type": "code",
   "execution_count": 9,
   "metadata": {},
   "outputs": [],
   "source": [
    "import csv\n",
    "import cv2\n",
    "import numpy as np\n",
    "\n",
    "lines = []\n",
    "with open('./data/sample/data/driving_log.csv') as csvfile:\n",
    "  reader = csv.reader(csvfile)\n",
    "  for line in reader:\n",
    "    lines.append(line)\n",
    "    \n",
    "images = []\n",
    "measurements = [] \n",
    "for line in lines[1:]:\n",
    "  source_path = line[0]\n",
    "  tokens = source_path.split('/')\n",
    "  filename = tokens[-1]  \n",
    "  local_path = \"./data/sample/data/IMG/\" + filename\n",
    "  image = cv2.imread(local_path)\n",
    "  images.append(image)\n",
    "  measurement = line[3]\n",
    "  measurements.append(measurement)\n",
    "    \n",
    "    \n",
    "X_train = np.array(images)\n",
    "y_train = np.array(measurements)"
   ]
  },
  {
   "cell_type": "code",
   "execution_count": 10,
   "metadata": {},
   "outputs": [
    {
     "name": "stdout",
     "output_type": "stream",
     "text": [
      "(8036, 160, 320, 3)\n"
     ]
    }
   ],
   "source": [
    "print(X_train.shape)"
   ]
  },
  {
   "cell_type": "code",
   "execution_count": 11,
   "metadata": {},
   "outputs": [
    {
     "name": "stderr",
     "output_type": "stream",
     "text": [
      "Using TensorFlow backend.\n"
     ]
    },
    {
     "name": "stdout",
     "output_type": "stream",
     "text": [
      "Train on 6428 samples, validate on 1608 samples\n",
      "Epoch 1/10\n",
      "6428/6428 [==============================] - 4s 581us/step - loss: 7643557.2565 - val_loss: 7393.4575\n",
      "Epoch 2/10\n",
      "6428/6428 [==============================] - 4s 598us/step - loss: 3936.3315 - val_loss: 2469.4440\n",
      "Epoch 3/10\n",
      "6428/6428 [==============================] - 4s 594us/step - loss: 2752.3167 - val_loss: 3074.8283\n",
      "Epoch 4/10\n",
      "6428/6428 [==============================] - 4s 592us/step - loss: 2425.5000 - val_loss: 1739.5043\n",
      "Epoch 5/10\n",
      "6428/6428 [==============================] - 4s 592us/step - loss: 1761.0808 - val_loss: 1742.6869\n",
      "Epoch 6/10\n",
      "6428/6428 [==============================] - 4s 594us/step - loss: 1903.3260 - val_loss: 1402.2155\n",
      "Epoch 7/10\n",
      "6428/6428 [==============================] - 4s 594us/step - loss: 2672.1660 - val_loss: 1303.9543\n",
      "Epoch 8/10\n",
      "6428/6428 [==============================] - 4s 600us/step - loss: 1683.2193 - val_loss: 1361.0325\n",
      "Epoch 9/10\n",
      "6428/6428 [==============================] - 4s 586us/step - loss: 5134.7424 - val_loss: 15902.1102\n",
      "Epoch 10/10\n",
      "6428/6428 [==============================] - 4s 603us/step - loss: 196704.8605 - val_loss: 62038.1733\n"
     ]
    }
   ],
   "source": [
    "import keras\n",
    "from keras.models import Sequential\n",
    "from keras.layers import Flatten, Dense\n",
    "\n",
    "model = Sequential()\n",
    "model.add(Flatten(input_shape=(160,320,3)))\n",
    "model.add(Dense(1))\n",
    "\n",
    "model.compile(optimizer='adam', loss='mse')\n",
    "model.fit(X_train, y_train, validation_split=0.2, shuffle=True)\n",
    "\n",
    "model.save('model.h5')\n"
   ]
  },
  {
   "cell_type": "code",
   "execution_count": null,
   "metadata": {},
   "outputs": [],
   "source": []
  }
 ],
 "metadata": {
  "kernelspec": {
   "display_name": "Python 3",
   "language": "python",
   "name": "python3"
  },
  "language_info": {
   "codemirror_mode": {
    "name": "ipython",
    "version": 3
   },
   "file_extension": ".py",
   "mimetype": "text/x-python",
   "name": "python",
   "nbconvert_exporter": "python",
   "pygments_lexer": "ipython3",
   "version": "3.5.4"
  },
  "widgets": {
   "state": {},
   "version": "1.1.2"
  }
 },
 "nbformat": 4,
 "nbformat_minor": 2
}
