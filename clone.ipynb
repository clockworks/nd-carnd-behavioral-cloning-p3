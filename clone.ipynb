{
 "cells": [
  {
   "cell_type": "code",
   "execution_count": 10,
   "metadata": {},
   "outputs": [],
   "source": [
    "import csv\n",
    "import cv2\n",
    "import numpy as np\n",
    "\n",
    "lines = []\n",
    "with open('./data/lap1/driving_log.csv') as csvfile:\n",
    "  reader = csv.reader(csvfile)\n",
    "  for line in reader:\n",
    "    lines.append(line)\n",
    "    \n",
    "images = []\n",
    "measurements = [] \n",
    "for line in lines:\n",
    "  source_path = line[0]\n",
    "  tokens = source_path.split('/')\n",
    "  filename = tokens[-1]  \n",
    "  local_path = \"./data/lap1/IMG/\" + filename\n",
    "  image = cv2.imread(local_path)\n",
    "  images.append(image)\n",
    "  measurement = line[3]\n",
    "  measurements.append(measurement)\n",
    "    \n",
    "    \n",
    "X_train = np.array(images)\n",
    "y_train = np.array(measurements)"
   ]
  },
  {
   "cell_type": "code",
   "execution_count": 11,
   "metadata": {},
   "outputs": [
    {
     "name": "stdout",
     "output_type": "stream",
     "text": [
      "(2121, 160, 320, 3)\n"
     ]
    }
   ],
   "source": [
    "print(X_train.shape)"
   ]
  },
  {
   "cell_type": "code",
   "execution_count": 12,
   "metadata": {},
   "outputs": [
    {
     "name": "stderr",
     "output_type": "stream",
     "text": [
      "Using TensorFlow backend.\n"
     ]
    },
    {
     "name": "stdout",
     "output_type": "stream",
     "text": [
      "Train on 1696 samples, validate on 425 samples\n",
      "Epoch 1/10\n",
      "1696/1696 [==============================] - 1s 760us/step - loss: 36126116.6597 - val_loss: 1077009.1332\n",
      "Epoch 2/10\n",
      "1696/1696 [==============================] - 1s 771us/step - loss: 237651.9080 - val_loss: 20075.9228\n",
      "Epoch 3/10\n",
      "1696/1696 [==============================] - 1s 783us/step - loss: 10604.8054 - val_loss: 12882.5404\n",
      "Epoch 4/10\n",
      "1696/1696 [==============================] - 1s 844us/step - loss: 7308.4831 - val_loss: 11180.4577\n",
      "Epoch 5/10\n",
      "1696/1696 [==============================] - 1s 838us/step - loss: 6009.4847 - val_loss: 11043.5297\n",
      "Epoch 6/10\n",
      "1696/1696 [==============================] - 1s 843us/step - loss: 5289.4231 - val_loss: 5389.9913\n",
      "Epoch 7/10\n",
      "1696/1696 [==============================] - 2s 911us/step - loss: 4029.5337 - val_loss: 5449.2830\n",
      "Epoch 8/10\n",
      "1696/1696 [==============================] - 1s 878us/step - loss: 3509.9024 - val_loss: 7333.7188\n",
      "Epoch 9/10\n",
      "1696/1696 [==============================] - 2s 906us/step - loss: 3098.7392 - val_loss: 4428.3889\n",
      "Epoch 10/10\n",
      "1696/1696 [==============================] - 2s 928us/step - loss: 3188.7243 - val_loss: 4230.0739\n"
     ]
    }
   ],
   "source": [
    "import keras\n",
    "from keras.models import Sequential\n",
    "from keras.layers import Flatten, Dense\n",
    "\n",
    "model = Sequential()\n",
    "model.add(Flatten(input_shape=(160,320,3)))\n",
    "model.add(Dense(1))\n",
    "\n",
    "model.compile(optimizer='adam', loss='mse')\n",
    "model.fit(X_train, y_train, validation_split=0.2, shuffle=True)\n",
    "\n",
    "model.save('model.h5')\n"
   ]
  },
  {
   "cell_type": "code",
   "execution_count": null,
   "metadata": {},
   "outputs": [],
   "source": []
  }
 ],
 "metadata": {
  "kernelspec": {
   "display_name": "Python 3",
   "language": "python",
   "name": "python3"
  },
  "language_info": {
   "codemirror_mode": {
    "name": "ipython",
    "version": 3
   },
   "file_extension": ".py",
   "mimetype": "text/x-python",
   "name": "python",
   "nbconvert_exporter": "python",
   "pygments_lexer": "ipython3",
   "version": "3.5.4"
  },
  "widgets": {
   "state": {},
   "version": "1.1.2"
  }
 },
 "nbformat": 4,
 "nbformat_minor": 2
}
